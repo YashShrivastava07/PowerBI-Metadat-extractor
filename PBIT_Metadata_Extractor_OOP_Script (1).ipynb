{
 "cells": [
  {
   "cell_type": "code",
   "execution_count": 1,
   "id": "9612b484",
   "metadata": {},
   "outputs": [],
   "source": [
    "import json\n",
    "import pandas as pd\n",
    "import numpy as np\n",
    "import os\n",
    "import re\n",
    "from dax_extract import read_data_model_schema\n",
    "from pathlib import Path\n",
    "\n",
    "class MetaData():\n",
    "    \n",
    "    def __init__(self,pbit_path,schema_path=\"No path\"):\n",
    "        self.path=Path(pbit_path)\n",
    "        self.schema=schema_path\n",
    "        self.pattern=r'[0-9]+'\n",
    "        self.items=os.listdir()\n",
    "        try:\n",
    "            self.data=read_data_model_schema(self.path)\n",
    "        except:\n",
    "            try:\n",
    "                a=open(self.schema,\"r\",encoding='utf-8')\n",
    "                self.data=json.load(a)\n",
    "            except:\n",
    "                a=open(self.schema,\"r\",encoding='utf-16')\n",
    "                self.data=json.load(a)  \n",
    "                \n",
    "    def extract_measures(self):\n",
    "        all_mes_files=list(filter(lambda x:x.startswith('mea'),self.items))\n",
    "        all_nums=list(map(lambda x:int(re.findall(self.pattern,x)[0]),all_mes_files))\n",
    "        if len(all_nums)==0:\n",
    "            m_path=\"measures0.xlsx\"\n",
    "        else:\n",
    "            m_path=\"measures\"+str(max(all_nums)+1)+\".xlsx\"\n",
    "        \n",
    "        tab_no=[]\n",
    "        tab_name=[]\n",
    "        mea_name=[]\n",
    "        mea_exp=[]\n",
    "        data_type=[]\n",
    "        for i in range(len(self.data['model']['tables'])):\n",
    "            if \"measures\" in self.data['model']['tables'][i]:\n",
    "                for j in range(len(self.data['model']['tables'][i]['measures'])):\n",
    "                    tab_no.append(i) \n",
    "                    mea_name.append(self.data['model']['tables'][i]['measures'][j]['name'])\n",
    "                    tab_name.append(self.data['model']['tables'][i]['name'])\n",
    "                    if 'expression' in self.data['model']['tables'][i]['measures'][j]:\n",
    "                        if type(self.data['model']['tables'][i]['measures'][j]['expression'])==list:\n",
    "                            mea_exp.append(\"\".join(self.data['model']['tables'][i]['measures'][j]['expression']))\n",
    "                        else:\n",
    "                            mea_exp.append(self.data['model']['tables'][i]['measures'][j]['expression'])\n",
    "                    else:\n",
    "                        mea_exp.append(\"No expression\")\n",
    "                    if \"dataType\" in self.data['model']['tables'][i]['measures'][j]:\n",
    "                        data_type.append(self.data['model']['tables'][i]['measures'][j]['dataType'])\n",
    "                    else:\n",
    "                        data_type.append(\"No Data Type\")\n",
    "            else:\n",
    "                continue\n",
    "            measures_df=pd.DataFrame({\"table Number\":tab_no,\"table Name\":tab_name,\"Measure Name\":mea_name,\"Measure Expression\":mea_exp,\"Data Ttpe\":data_type})\n",
    "            measures_df.to_excel(m_path)\n",
    "            \n",
    "            \n",
    "    def extract_relationships(self):\n",
    "        all_rel_files=list(filter(lambda x:x.startswith('rel'),self.items))\n",
    "        all_nums_rel=list(map(lambda x:int(re.findall(self.pattern,x)[0]),all_rel_files))\n",
    "        if len(all_nums_rel)==0:\n",
    "            r_path=\"relationships0.xlsx\"\n",
    "        else:\n",
    "            r_path=\"relationships\"+str(max(all_nums_rel)+1)+\".xlsx\"\n",
    "        ft=[]\n",
    "        fc=[]\n",
    "        tt=[]\n",
    "        tc=[]\n",
    "        state=[]\n",
    "                \n",
    "        for i in self.data['model']['relationships']:\n",
    "            ft.append(i['fromTable'])\n",
    "            fc.append(i['fromColumn'])\n",
    "            tt.append(i['toTable'])\n",
    "            tc.append(i['toColumn'])\n",
    "            if \"state\" in i:\n",
    "                state.append(i['state'])\n",
    "            else:\n",
    "                state.append(\"No State\")\n",
    "    \n",
    "        relationships=pd.DataFrame({\"fromTable\":ft,\"fromColumn\":fc,\"toTable\":tt,\"toColumn\":tc,\"State\":state})\n",
    "        relationships.to_excel(r_path)\n",
    "\n",
    "        \n",
    "    def extract_calculated_columns(self):  \n",
    "        all_col_files=list(filter(lambda x:x.startswith('col'),self.items))\n",
    "        all_nums_col=list(map(lambda x:int(re.findall(self.pattern,x)[0]),all_col_files))\n",
    "        if len(all_nums_col)==0:\n",
    "            c_path=\"columns0.xlsx\"\n",
    "        else:\n",
    "            c_path=\"columns\"+str(max(all_nums_col)+1)+\".xlsx\"\n",
    "        \n",
    "        table_number=[]\n",
    "        table_name=[]\n",
    "        name=[]\n",
    "        expression=[]\n",
    "        for i in range(len(self.data['model']['tables'])):\n",
    "            if \"columns\" in self.data['model']['tables'][i]:\n",
    "                for j in range(len(self.data['model']['tables'][i]['columns'])):\n",
    "                    if \"type\" in self.data['model']['tables'][i]['columns'][j]:\n",
    "                        if self.data['model']['tables'][i]['columns'][j]['type']=='calculated':\n",
    "                            table_number.append(i)\n",
    "                            table_name.append(self.data['model']['tables'][i]['name'])\n",
    "                            name.append(self.data['model']['tables'][i]['columns'][j]['name'])\n",
    "                            if \"expression\" in self.data['model']['tables'][i]['columns'][j]:\n",
    "                                if type(self.data['model']['tables'][i]['columns'][j]['expression'])==list:\n",
    "                                    expression.append(\"\".join(self.data['model']['tables'][i]['columns'][j]['expression']))\n",
    "                                else:\n",
    "                                    expression.append(self.data['model']['tables'][i]['columns'][j]['expression'])\n",
    "                            else:\n",
    "                                expression.append(\"No expression\")\n",
    "                        else:\n",
    "                            continue\n",
    "                    else:\n",
    "                        continue\n",
    "\n",
    "        col_df=pd.DataFrame({\"table no\":table_number,\"Table Name\":table_name,\"name\":name,\"expression\":expression})\n",
    "        col_df.to_excel(c_path)\n",
    "        \n",
    "    def extract_partition(self):\n",
    "        all_partitions_files=list(filter(lambda x:x.startswith('Par'),self.items))\n",
    "        all_nums_partitions=list(map(lambda x:int(re.findall(self.pattern,x)[0]),all_partitions_files))\n",
    "        if len(all_nums_partitions)==0:\n",
    "            par_path=\"Partitions0.xlsx\"\n",
    "        else:\n",
    "            par_path=\"Partitions\"+str(max(all_nums_partitions)+1)+\".xlsx\"\n",
    "            \n",
    "        table_no=[]\n",
    "        name=[]\n",
    "        expression=[]\n",
    "        for i in range(len(self.data['model']['tables'])):\n",
    "            for j in range(len(self.data['model']['tables'][i]['partitions'])):\n",
    "                table_no.append(i)\n",
    "                if 'source' in self.data['model']['tables'][i]['partitions'][j]:\n",
    "                    name.append(self.data['model']['tables'][i]['partitions'][j]['name'])\n",
    "                    partition_name=[]\n",
    "                    for k in name:\n",
    "                        res=k.split(\"-\")[0]\n",
    "                        partition_name.append(res)\n",
    "                    if self.data['model']['tables'][i]['partitions'][j]['source']['type']=='calculated':\n",
    "                        if 'expression' in self.data['model']['tables'][i]['partitions'][j]['source']:\n",
    "                            expression.append(self.data['model']['tables'][i]['partitions'][j]['source']['expression'])\n",
    "                    else:\n",
    "                        expression.append(self.data['model']['tables'][i]['partitions'][j]['source']['expression'])\n",
    "        \n",
    "        partitions=pd.DataFrame({'table_no':table_no,'partiton Name':partition_name,'expression':expression,})\n",
    "        partitions.to_excel(par_path)\n",
    "        \n",
    "        \n",
    "    def extract_hierarchy(self):\n",
    "        all_hierarchy_files=list(filter(lambda x:x.startswith('hie'),self.items))\n",
    "        all_nums_hierarchy=list(map(lambda x:int(re.findall(self.pattern,x)[0]),all_hierarchy_files))\n",
    "        if len(all_nums_hierarchy)==0:\n",
    "            h_path=\"hierarchy0.xlsx\"\n",
    "        else:\n",
    "            h_path=\"hierarchy\"+str(max(all_nums_hierarchy)+1)+\".xlsx\"\n",
    "        table_no=[]\n",
    "        hierarchy_levels_name=[]\n",
    "        hierarchy_name=[]\n",
    "        state=[]\n",
    "        for i in range(len(self.data['model']['tables'])):\n",
    "            if 'hierarchies' in self.data['model']['tables'][i]:\n",
    "                for j in range(len(self.data['model']['tables'][i]['hierarchies'])):\n",
    "                    if 'name' in self.data['model']['tables'][i]['hierarchies'][j]:\n",
    "                        for k in range(len(self.data['model']['tables'][i]['hierarchies'][j]['levels'])):\n",
    "                            state.append(self.data['model']['tables'][i]['hierarchies'][j]['state'])\n",
    "                            hierarchy_name.append(self.data['model']['tables'][i]['hierarchies'][j]['name'])\n",
    "                            table_no.append(i)\n",
    "                            hierarchy_levels_name.append(self.data['model']['tables'][i]['hierarchies'][j]['levels'][k]['name'])\n",
    "        hierarchy=pd.DataFrame({'table_no':table_no,'hierarchy_name':hierarchy_name,'levels_name':hierarchy_levels_name,'state':state})\n",
    "        hierarchy.to_excel(h_path)   "
   ]
  },
  {
   "cell_type": "code",
   "execution_count": 8,
   "id": "63882403",
   "metadata": {},
   "outputs": [],
   "source": [
    "a=MetaData(\"anjknfk\",\"Weave.txt\")"
   ]
  },
  {
   "cell_type": "code",
   "execution_count": 9,
   "id": "2c9e25aa",
   "metadata": {},
   "outputs": [],
   "source": [
    "a.extract_measures()"
   ]
  },
  {
   "cell_type": "code",
   "execution_count": 10,
   "id": "f294b7c5",
   "metadata": {},
   "outputs": [],
   "source": [
    "a.extract_relationships()"
   ]
  },
  {
   "cell_type": "code",
   "execution_count": 11,
   "id": "079a35d6",
   "metadata": {},
   "outputs": [],
   "source": [
    "a.extract_calculated_columns()"
   ]
  },
  {
   "cell_type": "code",
   "execution_count": 12,
   "id": "c1e0856a-5165-404b-b5a1-de4eb1046025",
   "metadata": {},
   "outputs": [],
   "source": [
    "a.extract_partition()"
   ]
  },
  {
   "cell_type": "code",
   "execution_count": 2,
   "id": "50d698e4",
   "metadata": {},
   "outputs": [],
   "source": [
    "b=MetaData(\"skbdkf\",\"BFSI.txt\")"
   ]
  },
  {
   "cell_type": "code",
   "execution_count": 3,
   "id": "af9dce55",
   "metadata": {},
   "outputs": [],
   "source": [
    "b.extract_measures()"
   ]
  },
  {
   "cell_type": "code",
   "execution_count": 4,
   "id": "91a5a4ff",
   "metadata": {},
   "outputs": [],
   "source": [
    "b.extract_relationships()"
   ]
  },
  {
   "cell_type": "code",
   "execution_count": 5,
   "id": "41a02182",
   "metadata": {},
   "outputs": [],
   "source": [
    "b.extract_calculated_columns()"
   ]
  },
  {
   "cell_type": "code",
   "execution_count": 6,
   "id": "cfb9c7d4-7557-4a83-92d1-1725282eba33",
   "metadata": {},
   "outputs": [],
   "source": [
    "b.extract_partition()"
   ]
  },
  {
   "cell_type": "code",
   "execution_count": 7,
   "id": "eb4bfaaa-9699-4239-8c7a-4df5f067fd59",
   "metadata": {},
   "outputs": [],
   "source": [
    "b.extract_hierarchy()"
   ]
  },
  {
   "cell_type": "code",
   "execution_count": 13,
   "id": "2d2dcb98",
   "metadata": {},
   "outputs": [],
   "source": [
    "a.extract_hierarchy()"
   ]
  },
  {
   "cell_type": "code",
   "execution_count": null,
   "id": "67477582",
   "metadata": {},
   "outputs": [],
   "source": []
  }
 ],
 "metadata": {
  "kernelspec": {
   "display_name": "Python 3 (ipykernel)",
   "language": "python",
   "name": "python3"
  },
  "language_info": {
   "codemirror_mode": {
    "name": "ipython",
    "version": 3
   },
   "file_extension": ".py",
   "mimetype": "text/x-python",
   "name": "python",
   "nbconvert_exporter": "python",
   "pygments_lexer": "ipython3",
   "version": "3.9.13"
  }
 },
 "nbformat": 4,
 "nbformat_minor": 5
}
