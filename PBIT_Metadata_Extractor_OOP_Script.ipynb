{
 "cells": [
  {
   "cell_type": "code",
   "execution_count": 69,
   "id": "4a2397e1",
   "metadata": {},
   "outputs": [],
   "source": [
    "import json\n",
    "import pandas as pd\n",
    "import numpy as np\n",
    "import os\n",
    "import re\n",
    "from dax_extract import read_data_model_schema\n",
    "from pathlib import Path\n",
    "\n",
    "class MetaData():\n",
    "    \n",
    "    def __init__(self,pbit_path,schema_path=\"No path\"):\n",
    "        self.file=pbit_path\n",
    "        self.path=Path(pbit_path)\n",
    "        self.schema=schema_path\n",
    "        self.pattern=r'[0-9]+'\n",
    "        self.textpat=r'[a-zA-Z]+'\n",
    "        self.items=os.listdir()\n",
    "        try:\n",
    "            self.data=read_data_model_schema(self.path)\n",
    "        except:\n",
    "            try:\n",
    "                a=open(self.schema,\"r\",encoding='utf-8')\n",
    "                self.data=json.load(a)\n",
    "            except:\n",
    "                a=open(self.schema,\"r\",encoding='utf-16')\n",
    "                self.data=json.load(a)  \n",
    "                \n",
    "    def extract_measures(self):\n",
    "        all_mes_files=list(filter(lambda x:'mea' in x,self.items))\n",
    "        all_nums=list(map(lambda x:int(re.findall(self.pattern,x)[0]),all_mes_files))\n",
    "        if len(all_nums)==0:\n",
    "            m_path=str(re.findall(self.textpat,self.file)[0])+\"_measures0.xlsx\"\n",
    "        else:\n",
    "            m_path=str(re.findall(self.textpat,self.file)[0])+\"_measures\"+str(max(all_nums)+1)+\".xlsx\"\n",
    "        \n",
    "        tab_no=[]\n",
    "        tab_name=[]\n",
    "        mea_name=[]\n",
    "        mea_exp=[]\n",
    "        for i in range(len(self.data['model']['tables'])):\n",
    "            if \"measures\" in self.data['model']['tables'][i]:\n",
    "                for j in range(len(self.data['model']['tables'][i]['measures'])):\n",
    "                    tab_no.append(i) \n",
    "                    mea_name.append(self.data['model']['tables'][i]['measures'][j]['name'])\n",
    "                    tab_name.append(self.data['model']['tables'][i]['name'])\n",
    "                    if 'expression' in self.data['model']['tables'][i]['measures'][j]:\n",
    "                        if type(self.data['model']['tables'][i]['measures'][j]['expression'])==list:\n",
    "                            mea_exp.append(\" \".join(self.data['model']['tables'][i]['measures'][j]['expression']).strip())\n",
    "                        else:\n",
    "                            mea_exp.append(self.data['model']['tables'][i]['measures'][j]['expression'].strip())\n",
    "                    else:\n",
    "                        mea_exp.append(\"No expression\")\n",
    "            else:\n",
    "                continue\n",
    "            measures_df=pd.DataFrame({\"table Number\":tab_no,\"table Name\":tab_name,\"Measure Name\":mea_name,\"Measure Expression\":mea_exp})\n",
    "            measures_df.to_excel(m_path)\n",
    "            \n",
    "            \n",
    "    def extract_relationships(self):\n",
    "        all_rel_files=list(filter(lambda x:'rel' in x,self.items))\n",
    "        all_nums_rel=list(map(lambda x:int(re.findall(self.pattern,x)[0]),all_rel_files))\n",
    "        if len(all_nums_rel)==0:\n",
    "            r_path=str(re.findall(self.textpat,self.file)[0])+\"_relationships0.xlsx\"\n",
    "        else:\n",
    "            r_path=str(re.findall(self.textpat,self.file)[0])+\"_relationships\"+str(max(all_nums_rel)+1)+\".xlsx\"\n",
    "        ft=[]\n",
    "        fc=[]\n",
    "        tt=[]\n",
    "        tc=[]\n",
    "        state=[]\n",
    "                \n",
    "        for i in self.data['model']['relationships']:\n",
    "            ft.append(i['fromTable'])\n",
    "            fc.append(i['fromColumn'])\n",
    "            tt.append(i['toTable'])\n",
    "            tc.append(i['toColumn'])\n",
    "            if \"state\" in i:\n",
    "                state.append(i['state'])\n",
    "            else:\n",
    "                state.append(\"No State\")\n",
    "    \n",
    "        relationships=pd.DataFrame({\"From Table\":ft,\"From Column\":fc,\"To Table\":tt,\"To Column\":tc,\"State\":state})\n",
    "        relationships.to_excel(r_path)\n",
    "\n",
    "        \n",
    "    def extract_calculated_columns(self):  \n",
    "        all_col_files=list(filter(lambda x:'col' in x,self.items))\n",
    "        all_nums_col=list(map(lambda x:int(re.findall(self.pattern,x)[0]),all_col_files))\n",
    "        if len(all_nums_col)==0:\n",
    "            c_path=str(re.findall(self.textpat,self.file)[0])+\"_columns0.xlsx\"\n",
    "        else:\n",
    "            c_path=str(re.findall(self.textpat,self.file)[0])+\"_columns\"+str(max(all_nums_col)+1)+\".xlsx\"\n",
    "        \n",
    "        table_number=[]\n",
    "        table_name=[]\n",
    "        name=[]\n",
    "        expression=[]\n",
    "        for i in range(len(self.data['model']['tables'])):\n",
    "            if \"columns\" in self.data['model']['tables'][i]:\n",
    "                for j in range(len(self.data['model']['tables'][i]['columns'])):\n",
    "                    if \"type\" in self.data['model']['tables'][i]['columns'][j]:\n",
    "                        if self.data['model']['tables'][i]['columns'][j]['type']=='calculated':\n",
    "                            table_number.append(i)\n",
    "                            table_name.append(self.data['model']['tables'][i]['name'])\n",
    "                            name.append(self.data['model']['tables'][i]['columns'][j]['name'])\n",
    "                            if \"expression\" in self.data['model']['tables'][i]['columns'][j]:\n",
    "                                if type(self.data['model']['tables'][i]['columns'][j]['expression'])==list:\n",
    "                                    expression.append(\" \".join(self.data['model']['tables'][i]['columns'][j]['expression']).strip())\n",
    "                                else:\n",
    "                                    expression.append(self.data['model']['tables'][i]['columns'][j]['expression'].strip())\n",
    "                            else:\n",
    "                                expression.append(\"No expression\")\n",
    "                        else:\n",
    "                            continue\n",
    "                    else:\n",
    "                        continue\n",
    "\n",
    "        col_df=pd.DataFrame({\"table no\":table_number,\"Table Name\":table_name,\"name\":name,\"expression\":expression})\n",
    "        col_df.to_excel(c_path)\n",
    "        \n"
   ]
  },
  {
   "cell_type": "code",
   "execution_count": 61,
   "id": "e2b81dae",
   "metadata": {},
   "outputs": [],
   "source": [
    "a=MetaData(\"Weave\",\"Weave.txt\")"
   ]
  },
  {
   "cell_type": "code",
   "execution_count": 62,
   "id": "41aa33a1",
   "metadata": {},
   "outputs": [],
   "source": [
    "a.extract_measures()"
   ]
  },
  {
   "cell_type": "code",
   "execution_count": 63,
   "id": "f5197149",
   "metadata": {},
   "outputs": [],
   "source": [
    "a.extract_relationships()"
   ]
  },
  {
   "cell_type": "code",
   "execution_count": 64,
   "id": "0f210e53",
   "metadata": {},
   "outputs": [],
   "source": [
    "a.extract_calculated_columns()"
   ]
  },
  {
   "cell_type": "code",
   "execution_count": 65,
   "id": "3b375292",
   "metadata": {},
   "outputs": [],
   "source": [
    "b=MetaData(\"BFSI\",\"BFSI.txt\")"
   ]
  },
  {
   "cell_type": "code",
   "execution_count": 66,
   "id": "6326b9d7",
   "metadata": {},
   "outputs": [],
   "source": [
    "b.extract_measures()"
   ]
  },
  {
   "cell_type": "code",
   "execution_count": 67,
   "id": "d87e4a47",
   "metadata": {},
   "outputs": [],
   "source": [
    "b.extract_relationships()"
   ]
  },
  {
   "cell_type": "code",
   "execution_count": 68,
   "id": "801a6145",
   "metadata": {},
   "outputs": [],
   "source": [
    "b.extract_calculated_columns()"
   ]
  },
  {
   "cell_type": "code",
   "execution_count": null,
   "id": "085b8827",
   "metadata": {},
   "outputs": [],
   "source": []
  }
 ],
 "metadata": {
  "kernelspec": {
   "display_name": "Python 3 (ipykernel)",
   "language": "python",
   "name": "python3"
  },
  "language_info": {
   "codemirror_mode": {
    "name": "ipython",
    "version": 3
   },
   "file_extension": ".py",
   "mimetype": "text/x-python",
   "name": "python",
   "nbconvert_exporter": "python",
   "pygments_lexer": "ipython3",
   "version": "3.9.13"
  }
 },
 "nbformat": 4,
 "nbformat_minor": 5
}
